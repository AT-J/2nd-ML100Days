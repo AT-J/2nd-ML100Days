{
 "cells": [
  {
   "cell_type": "markdown",
   "metadata": {},
   "source": [
    "## [作業重點]\n",
    "目前你應該已經要很清楚資料集中，資料的型態是什麼樣子囉！包含特徵 (features) 與標籤 (labels)。因此要記得未來不管什麼專案，必須要把資料清理成相同的格式，才能送進模型訓練。\n",
    "今天的作業開始踏入決策樹這個非常重要的模型，請務必確保你理解模型中每個超參數的意思，並試著調整看看，對最終預測結果的影響為何"
   ]
  },
  {
   "cell_type": "markdown",
   "metadata": {},
   "source": [
    "## 作業\n",
    "\n",
    "1. 試著調整 DecisionTreeClassifier(...) 中的參數，並觀察是否會改變結果？\n",
    "2. 改用其他資料集 (boston, wine)，並與回歸模型的結果進行比較"
   ]
  },
  {
   "cell_type": "code",
   "execution_count": 1,
   "metadata": {},
   "outputs": [],
   "source": [
    "from sklearn import datasets, metrics\n",
    "from sklearn.tree import DecisionTreeClassifier, DecisionTreeRegressor\n",
    "from sklearn.model_selection import train_test_split"
   ]
  },
  {
   "cell_type": "code",
   "execution_count": 2,
   "metadata": {},
   "outputs": [
    {
     "name": "stdout",
     "output_type": "stream",
     "text": [
      "Acuuracy:  0.9333333333333333\n"
     ]
    }
   ],
   "source": [
    "wine = datasets.load_wine()\n",
    "x_train, x_test, y_train, y_test = train_test_split(wine.data, wine.target, test_size=0.25, random_state=0)\n",
    "clf = DecisionTreeClassifier(max_leaf_nodes=20)\n",
    "clf.fit(x_train, y_train)\n",
    "y_pred = clf.predict(x_test)\n",
    "acc = metrics.accuracy_score(y_test, y_pred)\n",
    "print(\"Acuuracy: \", acc)"
   ]
  },
  {
   "cell_type": "code",
   "execution_count": 3,
   "metadata": {},
   "outputs": [
    {
     "name": "stdout",
     "output_type": "stream",
     "text": [
      "alcohol 0.0\n",
      "malic_acid 0.0\n",
      "ash 0.0221650248129768\n",
      "alcalinity_of_ash 0.0\n",
      "magnesium 0.01888131743327655\n",
      "total_phenols 0.0\n",
      "flavanoids 0.4324191914130787\n",
      "nonflavanoid_phenols 0.0\n",
      "proanthocyanins 0.0\n",
      "color_intensity 0.4031560026054714\n",
      "hue 0.0\n",
      "od280/od315_of_diluted_wines 0.0\n",
      "proline 0.1233784637351966\n"
     ]
    }
   ],
   "source": [
    "for i in range(len(wine.feature_names)):\n",
    "    print(wine.feature_names[i],clf.feature_importances_[i])"
   ]
  },
  {
   "cell_type": "code",
   "execution_count": 4,
   "metadata": {},
   "outputs": [
    {
     "name": "stdout",
     "output_type": "stream",
     "text": [
      "Mean squared error: 29.578\n"
     ]
    }
   ],
   "source": [
    "boston = datasets.load_boston()\n",
    "x_train, x_test, y_train, y_test = train_test_split(boston.data, boston.target, test_size=0.25, random_state=0)\n",
    "clf = DecisionTreeRegressor()\n",
    "clf.fit(x_train, y_train)\n",
    "y_pred = clf.predict(x_test)\n",
    "print(\"Mean squared error: %.3f\" % metrics.mean_squared_error(y_test, y_pred))"
   ]
  },
  {
   "cell_type": "code",
   "execution_count": 5,
   "metadata": {},
   "outputs": [
    {
     "name": "stdout",
     "output_type": "stream",
     "text": [
      "CRIM 0.05376357469672037\n",
      "ZN 0.00029961268589463074\n",
      "INDUS 0.010748290783560707\n",
      "CHAS 0.0003320773852537069\n",
      "NOX 0.011195595342716715\n",
      "RM 0.24306264730511748\n",
      "AGE 0.01440160282392039\n",
      "DIS 0.027848943710640006\n",
      "RAD 0.000266584631766493\n",
      "TAX 0.011545904937380244\n",
      "PTRATIO 0.0306767994330317\n",
      "B 0.009830205406397964\n",
      "LSTAT 0.5860281608575996\n"
     ]
    }
   ],
   "source": [
    "for i in range(len(boston.feature_names)):\n",
    "    print(boston.feature_names[i],clf.feature_importances_[i])"
   ]
  }
 ],
 "metadata": {
  "kernelspec": {
   "display_name": "Python 3",
   "language": "python",
   "name": "python3"
  },
  "language_info": {
   "codemirror_mode": {
    "name": "ipython",
    "version": 3
   },
   "file_extension": ".py",
   "mimetype": "text/x-python",
   "name": "python",
   "nbconvert_exporter": "python",
   "pygments_lexer": "ipython3",
   "version": "3.7.3"
  }
 },
 "nbformat": 4,
 "nbformat_minor": 2
}
